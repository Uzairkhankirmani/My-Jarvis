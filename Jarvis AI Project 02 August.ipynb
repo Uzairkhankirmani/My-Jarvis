{
 "cells": [
  {
   "cell_type": "markdown",
   "id": "a0221a9a",
   "metadata": {},
   "source": [
    "# Installation Process"
   ]
  },
  {
   "cell_type": "code",
   "execution_count": 1,
   "id": "a47662c2",
   "metadata": {},
   "outputs": [
    {
     "name": "stdout",
     "output_type": "stream",
     "text": [
      "^C\n"
     ]
    }
   ],
   "source": [
    "# !pip install pywhatkit"
   ]
  },
  {
   "cell_type": "code",
   "execution_count": 5,
   "id": "ec26154b",
   "metadata": {},
   "outputs": [],
   "source": [
    "# !pip install SpeechRecognition"
   ]
  },
  {
   "cell_type": "code",
   "execution_count": 6,
   "id": "93553ebc",
   "metadata": {},
   "outputs": [],
   "source": [
    "# !pip install pyttsx3"
   ]
  },
  {
   "cell_type": "code",
   "execution_count": 7,
   "id": "eaf8755f",
   "metadata": {},
   "outputs": [],
   "source": [
    "# !pip install PyAudio"
   ]
  },
  {
   "cell_type": "code",
   "execution_count": 8,
   "id": "1166364c",
   "metadata": {},
   "outputs": [],
   "source": [
    "# pip install pyjokes"
   ]
  },
  {
   "cell_type": "code",
   "execution_count": 1,
   "id": "f72b7657",
   "metadata": {
    "scrolled": false
   },
   "outputs": [],
   "source": [
    "import speech_recognition as sr\n",
    "import pyttsx3\n",
    "import pywhatkit\n",
    "import pyjokes\n",
    "import datetime\n",
    "import wikipedia\n",
    "import os"
   ]
  },
  {
   "cell_type": "code",
   "execution_count": 4,
   "id": "6cd9ded3",
   "metadata": {},
   "outputs": [],
   "source": [
    "\n",
    "listener = sr.Recognizer()\n",
    "engine = pyttsx3.init()\n",
    "voices = engine.getProperty('voices')\n",
    "engine.setProperty('voice', voices[1].id)\n",
    "\n",
    "def talk(text):\n",
    "    engine.say(text)\n",
    "    engine.runAndWait()\n",
    "    \n",
    "def take_command():\n",
    "    try:\n",
    "        with sr.Microphone() as source:\n",
    "            print('Listening...')\n",
    "            voice = listener.listen(source)\n",
    "            command= listener.recognize_google(voice)\n",
    "            \n",
    "            command = command.lower()\n",
    "            if 'hello siri' in command:\n",
    "                command = command.replace('hello siri', ' ')\n",
    "                talk(command)\n",
    "#                 print(command)\n",
    "    except:\n",
    "        pass\n",
    "    return command\n",
    "\n",
    "\n",
    "def run_siri():\n",
    "    command = take_command()\n",
    "    print(command)\n",
    "    if 'play' in command:\n",
    "        song = command.replace('play', '')\n",
    "        talk('playing' + song)\n",
    "        pywhatkit.playonyt(song)\n",
    "    elif 'time' in command:\n",
    "        time = datetime.datetime.now().strftime('%H:%M:%p')\n",
    "        print(time)\n",
    "        talk('tell me Current time ' + time)\n",
    "    elif 'who' in command:\n",
    "        person = command.replace('who the heck ','')\n",
    "        info = wikipedia.summary(person , 1)\n",
    "        print(info)\n",
    "        talk(info)\n",
    "    elif \"create a folder\" in command:\n",
    "        person = command.replace(\"Create a folder\", ' ' )\n",
    "        print(\"folder\")\n",
    "        inputt=input(\"Enter folder name: \")\n",
    "        path = os.path.join(\"C:/Users/haier/Desktop\",inputt)\n",
    "        os.mkdir(path)\n",
    "    elif \"Rename a folder \" in command:\n",
    "        person1 = command.replace(\"Rename a folder\", ' ' )\n",
    "        inputt=input(\"Rename a folder! \")\n",
    "        os.chdir(r\"C:/Users/haier/Desktop\")\n",
    "        os.rename(inputt,\"Uzair\")\n",
    "        print(\"The Directory has been successfully renamed! \")\n",
    "        talk(\"The Directory has been successfully renamed! \")\n",
    "    elif \"Tell me a Jokes\" in command:\n",
    "        person = command.replace(\"Tell me a jokes \", \" \")\n",
    "        talk(pyjokes.get_jokes())\n",
    "    elif \" Good Bye Siri \" or \"Stop\" or \"exit\" in command:\n",
    "        command=root.destroy\n",
    "        talk(\"Thank You for using Siri \")\n",
    "        "
   ]
  },
  {
   "cell_type": "code",
   "execution_count": 6,
   "id": "dcdf5c39",
   "metadata": {
    "scrolled": true
   },
   "outputs": [
    {
     "name": "stdout",
     "output_type": "stream",
     "text": [
      "Listening...\n",
      "  play bts song on youtube\n"
     ]
    }
   ],
   "source": [
    "run_siri()"
   ]
  },
  {
   "cell_type": "markdown",
   "id": "4b24ad6a",
   "metadata": {},
   "source": [
    "## These line are two rename a folder"
   ]
  },
  {
   "cell_type": "code",
   "execution_count": 19,
   "id": "1d8e8495",
   "metadata": {},
   "outputs": [
    {
     "name": "stdout",
     "output_type": "stream",
     "text": [
      "The Directory has been successfully renamed!\n"
     ]
    }
   ],
   "source": [
    "\n",
    "\n",
    "os.chdir(r\"C:\\Users\\haier\\Desktop\\Project data\")\n",
    " \n",
    "os.rename(\"bts\",\"UzairKhan\")\n",
    " \n",
    "print(\"The Directory has been successfully renamed!\")"
   ]
  },
  {
   "cell_type": "markdown",
   "id": "062d297a",
   "metadata": {},
   "source": [
    "## These lines of code are for link the front end with backend"
   ]
  },
  {
   "cell_type": "code",
   "execution_count": null,
   "id": "60b2e013",
   "metadata": {},
   "outputs": [],
   "source": [
    "\n",
    "from tkinter import *\n",
    "\n",
    "\n",
    "from PIL import ImageTk,Image\n",
    "root=Tk()\n",
    "root.title(\"jarvis AI project\")\n",
    "# import tkinter\n",
    "# window = tkinter.Tk()\n",
    "root.geometry('1000x600')\n",
    "btn=Button(root,text='RUN JARVIS',font=(\"Black ops one\",15,'bold'),bg='yellow',fg='black',command=run_siri()).pack(fill='x',expand='no')\n",
    "img=ImageTk.PhotoImage(Image.open(r\"C:/Users/haier/Desktop/Project data/Why Does Siri Sound Weird_.png\"))\n",
    "# img=ImageTk.PhotoImage(Image.open(r\"C:/Users/haier/Desktop/Project data/Png Download _ Transparent Png Image.png\"))\n",
    "# img2=ImageTk.PhotoImage(Image.open(r\"C:/Users/haier/Desktop/Project data/Jarvis Png posted by Zoey Walker (1).png\"))\n",
    "panel=Label(root,image=img)\n",
    "# panel2=Label(root,image=img2)\n",
    "panel.pack(expand='no')\n",
    "# panel2.pack(expand='yes')\n",
    "btn2=Button(root,text='EXIT',font=(\"Black ops one\",15,'bold'),bg='black',fg='yellow',command=root.destroy).pack(fill='x',expand='no')\n",
    "\n",
    "\n",
    "compText=StringVar()\n",
    "userText=StringVar()\n",
    "#userText.set('Click RUN JARVIS to Give Command')\n",
    "userFrame=LabelFrame(root,text=\"User\",font=(\"Black ops one\",30,\"bold \"), bg = \"black\" , fg= \"Yellow\")\n",
    "userFrame.pack(fill=\"both\",expand='yes')\n",
    "\n",
    "left=Message(userFrame,textvariable=userText,bg='blue',fg='white')\n",
    "left.config(font=(\"century Gothic\",40,'bold'))\n",
    "left.pack(fill='both',expand='yes')\n",
    "\n",
    "compFrame=LabelFrame(root,text=\"jarvis\",font=(\"black ops one\",20,'bold'))\n",
    "compFrame.pack(fill='both',expand='yes')\n",
    "\n",
    "\n",
    "left2=Message(compFrame,textvariable=compText,bg='white',fg='red')\n",
    "left2.config(font=(\"century Gothic\",45,'bold'))\n",
    "left2.pack(fill='both',expand='yes')\n",
    "\n",
    "compText.set(\"Hello!!  What  Can I Do For You\")\n",
    "img=ImageTk.PhotoImage(Image.open(r\"C:/Users/haier/Desktop/Project data/Side.gif\"))\n",
    "panel=Label(root,image=img)\n",
    "panel.pack(side='right',fill='both',expand='no')\n",
    "\n",
    "\n",
    "\n",
    "root.mainloop()\n",
    "\n"
   ]
  },
  {
   "cell_type": "code",
   "execution_count": null,
   "id": "24e4b798",
   "metadata": {},
   "outputs": [],
   "source": []
  },
  {
   "cell_type": "code",
   "execution_count": null,
   "id": "7feb4802",
   "metadata": {},
   "outputs": [],
   "source": []
  }
 ],
 "metadata": {
  "kernelspec": {
   "display_name": "Python 3 (ipykernel)",
   "language": "python",
   "name": "python3"
  },
  "language_info": {
   "codemirror_mode": {
    "name": "ipython",
    "version": 3
   },
   "file_extension": ".py",
   "mimetype": "text/x-python",
   "name": "python",
   "nbconvert_exporter": "python",
   "pygments_lexer": "ipython3",
   "version": "3.9.12"
  }
 },
 "nbformat": 4,
 "nbformat_minor": 5
}
